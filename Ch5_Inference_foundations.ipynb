{
  "nbformat": 4,
  "nbformat_minor": 0,
  "metadata": {
    "colab": {
      "name": "Ch5 - Inference foundations",
      "provenance": [],
      "collapsed_sections": [],
      "include_colab_link": true
    },
    "kernelspec": {
      "name": "python3",
      "display_name": "Python 3"
    }
  },
  "cells": [
    {
      "cell_type": "markdown",
      "metadata": {
        "id": "view-in-github",
        "colab_type": "text"
      },
      "source": [
        "<a href=\"https://colab.research.google.com/github/s-brez/openintro-statistics/blob/master/Ch5_Inference_foundations.ipynb\" target=\"_parent\"><img src=\"https://colab.research.google.com/assets/colab-badge.svg\" alt=\"Open In Colab\"/></a>"
      ]
    },
    {
      "cell_type": "markdown",
      "metadata": {
        "id": "PHlswZXQq1FO",
        "colab_type": "text"
      },
      "source": [
        "#INFERENCE FOR A PROPORTION\n",
        " As part of a quality control process for computer chips, an engineer randomly samples 232 chips at a factory during a week of production to test the current rate of chips with severe defects. She finds that 34 of the chips are defective.\n",
        "\n",
        "**SE/variability = sqrt( (p_hat*(1-p_hat)) / n )**\n",
        "\n",
        "A) What is the population under consideration in this study?\n",
        "\n",
        "B) What parameter is being estimated?\n",
        "\n",
        "C) What is the point estimate for the parameter p_hat?\n",
        "\n",
        "D) Compute the standard error to measure the uncertainty in the point estimate."
      ]
    },
    {
      "cell_type": "code",
      "metadata": {
        "id": "JDFS3C_SEs7W",
        "colab_type": "code",
        "colab": {}
      },
      "source": [
        "import numpy as np\n",
        "import math\n",
        "from scipy.stats import norm"
      ],
      "execution_count": 0,
      "outputs": []
    },
    {
      "cell_type": "code",
      "metadata": {
        "id": "r2YGH8ADEvms",
        "colab_type": "code",
        "colab": {
          "base_uri": "https://localhost:8080/",
          "height": 141
        },
        "outputId": "17ad8d16-4e59-4209-cd85-31e48a562e9b"
      },
      "source": [
        "x, n, p_hat = 34, 232, x/n\n",
        "se = math.sqrt( (p_hat*(1-p_hat)) / n )\n",
        "\n",
        "print(\"A: All chips manufactured at the factory that week.\")\n",
        "\n",
        "print(\"\\nB: She is trying to estimate what proportion of the whole population is defective.\")\n",
        "\n",
        "print(\"\\nC: Sample proportion, or point estimate of p-hat = 34/232 =\", p_hat)\n",
        "\n",
        "print(\"\\nD: SE:\", round(se, 4))"
      ],
      "execution_count": 26,
      "outputs": [
        {
          "output_type": "stream",
          "text": [
            "A: All chips manufactured at the factory that week.\n",
            "\n",
            "B: She is trying to estimate what proportion of the whole population is defective.\n",
            "\n",
            "C: Sample proportion, or point estimate of p-hat = 34/232 = 0.04\n",
            "\n",
            "D: SE: 0.0129\n"
          ],
          "name": "stdout"
        }
      ]
    },
    {
      "cell_type": "markdown",
      "metadata": {
        "id": "0YsmUeudHdrL",
        "colab_type": "text"
      },
      "source": [
        "#SAMPLING DIST\n",
        "\n"
      ]
    },
    {
      "cell_type": "markdown",
      "metadata": {
        "id": "7Y_ga_ZbpUTe",
        "colab_type": "text"
      },
      "source": [
        "18% of first year students made the Dean's list in the current year. As part of a class project, students randomly sample 40 students and check if those students made the list. They repeat this 1,000 times and build a distribution of sample proportions.\n",
        "\n",
        "A) What is this distribution called?\n",
        "\n",
        "B) Calculate the variability of this distribution."
      ]
    },
    {
      "cell_type": "code",
      "metadata": {
        "id": "mFAl8Be3HwyG",
        "colab_type": "code",
        "colab": {
          "base_uri": "https://localhost:8080/",
          "height": 70
        },
        "outputId": "2e68674c-e9b2-4058-8223-337d951da9af"
      },
      "source": [
        "x, n, p_hat = 40, 1000, 0.18\n",
        "se =  math.sqrt( (p_hat*(1-p_hat)) / n )\n",
        "\n",
        "print(\"A: Sampling distribution\")\n",
        "\n",
        "print(\"\\nB:\", round(se, 4))"
      ],
      "execution_count": 25,
      "outputs": [
        {
          "output_type": "stream",
          "text": [
            "A: Sampling distribution\n",
            "\n",
            "B: 0.0121\n"
          ],
          "name": "stdout"
        }
      ]
    },
    {
      "cell_type": "markdown",
      "metadata": {
        "id": "XKq1zQsgIpdi",
        "colab_type": "text"
      },
      "source": [
        "#CONFIDENCE INTERVAL FOR A PROPORTION\n",
        "\n"
      ]
    },
    {
      "cell_type": "markdown",
      "metadata": {
        "id": "zNMbBdWBpUUB",
        "colab_type": "text"
      },
      "source": [
        "A website is trying to increase registration for first-time visitors, exposing 1% of these visitors to a new site design. Of 782 randomly sampled visitors over a month who saw the new design, 64 of them registered.\n",
        "\n",
        "**CI = p_hat +/- zcrit x SE**\n",
        "\n",
        "A) Check any conditions required for constructing a confidence interval.\n",
        "\n",
        "B) Compute the standard error.\n",
        "\n",
        "C) Construct and interpret a 90% confidence interval for the fraction of first-time visitors of the site who would register under the new design (assuming stable behaviors by new visitors over time).\n",
        "\n",
        "D) This time, construct a 95% confidence interval. Is this interval wider or narrower? Why?"
      ]
    },
    {
      "cell_type": "code",
      "metadata": {
        "id": "beYucQweNKwd",
        "colab_type": "code",
        "colab": {}
      },
      "source": [
        "import math"
      ],
      "execution_count": 0,
      "outputs": []
    },
    {
      "cell_type": "code",
      "metadata": {
        "id": "uYtDytZ5IvJb",
        "colab_type": "code",
        "colab": {
          "base_uri": "https://localhost:8080/",
          "height": 426
        },
        "outputId": "8d14549a-88a1-4a89-ef95-cf2cd87e68d9"
      },
      "source": [
        "n, k = 782, 64\n",
        "p_hat = round(k/n, 2)\n",
        "zcrit = round(norm.ppf(0.95), 4)\n",
        "se = round(math.sqrt( (p_hat*(1-p_hat)) / n ), 3)\n",
        "me = round(zcrit * se, 4)\n",
        "\n",
        "print(\"A: We check for independence, sampling is random in this case, so independence is satisfied.\\n\",\n",
        "      \"We also need to check success-failure, which is satisfied with both above 10 (64 and 782).\\n\",\n",
        "      \"Because these conditions are satisfied we can model p_hat using a normal distibution.\")\n",
        "\n",
        "print(\"\\nB:\\nSample proportion p_hat:\", round(p_hat, 4), \"SE:\", round(se, 4))\n",
        "\n",
        "print(\"\\nC:\\nUse z-critical value of\", zcrit, \"for a 90% CI\")\n",
        "print(\"Confidence interval is p_hat +/- zcrit x SE\",\n",
        "      \"\\nCI = p_hat +/- zcrit x SE\",\n",
        "      \"\\nCI =\", p_hat, \"+/-\", me )\n",
        "print(\"We establish with 90% confidence that\", round((p_hat-me)*100,2), \n",
        "      \"% to\", round((p_hat+me)*100,2), \"% of visitors will register.\" )\n",
        "\n",
        "zcrit = round(norm.ppf(0.975), 4)\n",
        "me = round(zcrit * se, 4)\n",
        "print(\"\\nD:\\nUse z-critical value of\", zcrit, \"for a 95% CI\")\n",
        "print(\"Our confidence interval is p_hat +/- zcrit x SE\",\n",
        "      \"\\nCI = p_hat +/- zcrit x SE\",\n",
        "      \"\\nCI =\", p_hat, \"+/-\", me )\n",
        "print(\"We establish with 95% confidence that\", round((p_hat-me)*100,2), \n",
        "      \"% to\", round((p_hat+me)*100,2), \"% of visitors will register.\" )\n",
        "\n",
        "print(\"\\nThe 95% interval must be wider as we would like to be more\"\n",
        "      \"\\nconfident that the true proportion of first-time visitors registering is in this interval.\")\n",
        "\n"
      ],
      "execution_count": 96,
      "outputs": [
        {
          "output_type": "stream",
          "text": [
            "A: We check for independence, sampling is random in this case, so independence is satisfied.\n",
            " We also need to check success-failure, which is satisfied with both above 10 (64 and 782).\n",
            " Because these conditions are satisfied we can model p_hat using a normal distibution.\n",
            "\n",
            "B:\n",
            "Sample proportion p_hat: 0.08 SE: 0.01\n",
            "\n",
            "C:\n",
            "Use z-critical value of 1.6449 for a 90% CI\n",
            "Confidence interval is p_hat +/- zcrit x SE \n",
            "CI = p_hat +/- zcrit x SE \n",
            "CI = 0.08 +/- 0.0164\n",
            "We establish with 90% confidence that 6.36 % to 9.64 % of visitors will register.\n",
            "\n",
            "D:\n",
            "Use z-critical value of 1.96 for a 95% CI\n",
            "Our confidence interval is p_hat +/- zcrit x SE \n",
            "CI = p_hat +/- zcrit x SE \n",
            "CI = 0.08 +/- 0.0196\n",
            "We establish with 95% confidence that 6.04 % to 9.96 % of visitors will register.\n",
            "\n",
            "The 95% interval must be wider as we would like to be more\n",
            "confident that the true proportion of first-time visitors registering is in this interval.\n"
          ],
          "name": "stdout"
        }
      ]
    },
    {
      "cell_type": "markdown",
      "metadata": {
        "id": "xlB1JQOuXqBt",
        "colab_type": "text"
      },
      "source": [
        "#HYPOTHESIS TESTING FOR A PROPORTION\n",
        "A food safety inspector is called upon to investigate a restaurant. The food safety inspector uses a hypothesis testing framework to evaluate whether regulations are not being met. If he decides the restaurant is in gross violation, its license to serve food will be revoked.\n",
        "\n",
        "A) Write the hypotheses in words.\n",
        "\n",
        "B) What is a Type 1 Error in this context?\n",
        "\n",
        "C) What is a Type 2 Error in this context?"
      ]
    },
    {
      "cell_type": "code",
      "metadata": {
        "id": "VXaY_uOQX39F",
        "colab_type": "code",
        "colab": {
          "base_uri": "https://localhost:8080/",
          "height": 141
        },
        "outputId": "62304511-b861-4915-e285-ff0168b84850"
      },
      "source": [
        "print(\"A:\\nNull hypothesis = The restaurant meets health and safety standards.\")\n",
        "print(\"Alt hypothesis = The restaurant does not meet health and safety standards.\")\n",
        "\n",
        "print(\"\\nB:\\nA type one error would be the inspector declaring the restarant as being in violation, when it actually is safe.\")\n",
        "print(\"A type two error would be the inspector failing to declare the restarant as being in violation, when it actually is unsafe.\")"
      ],
      "execution_count": 101,
      "outputs": [
        {
          "output_type": "stream",
          "text": [
            "A:\n",
            "Null hypothesis = The restaurant meets health and safety standards.\n",
            "Alt hypothesis = The restaurant does not meet health and safety standards.\n",
            "\n",
            "B:\n",
            "A type one error would be the inspector declaring the restarant as being in violation, when it actually is safe.\n",
            "A type two error would be the inspector failing to declare the restarant as being in violation, when it actually is unsafe.\n"
          ],
          "name": "stdout"
        }
      ]
    },
    {
      "cell_type": "markdown",
      "metadata": {
        "id": "hm3Glzj2Z-kh",
        "colab_type": "text"
      },
      "source": [
        "400 students were randomly sampled and 220 of them said they go to the gym at least once a week. Conduct a hypothesis test to check whether this represents a statistically significant difference from 50%:\n",
        "\n",
        "A) Using a significance level of 1%, and\n",
        "\n",
        "B) Using a significance level of 5%.\n",
        "\n",
        "C) Explain how and why the conclusion changes when the significance level changes."
      ]
    },
    {
      "cell_type": "code",
      "metadata": {
        "id": "iy7Y-uEIaDlz",
        "colab_type": "code",
        "colab": {
          "base_uri": "https://localhost:8080/",
          "height": 319
        },
        "outputId": "d70c40e6-c12f-4d4f-c055-d4d6c1e98faf"
      },
      "source": [
        "p0 = 0.5  # the null value\n",
        "n, k = 400, 220\n",
        "p_hat = round(k/n, 2)\n",
        "se = round(math.sqrt( (p_hat*(1-p_hat)) / n ), 3)\n",
        "z_score = round((p_hat-p ) / se, 4)\n",
        "one_tail = round(1-norm.cdf(z_score), 4)\n",
        "p_value = round(2*(1-norm.cdf(z_score)), 3)\n",
        "\n",
        "print(\"Null hypothesis: p_hat = 0.5, Alt hypothesis: p_hat != 0.5\")\n",
        "print(\"Sampling is random in this case, so independence criteria is satisfied.\",\n",
        "      \"Success-failure condition is also satisfied with\", n-k, \"and\", k, \"above 10.\")\n",
        "\n",
        "print(\"\\nSE = sqrt( (p_hat*(1-p_hat)) / n ):\", se)\n",
        "print(\"Z-Score = (p_hat - p0) / SE:\", z_score)\n",
        "print(\"One-tail area for this z-score:\", one_tail)\n",
        "print(\"p-value is twice the one-tail area:\", p_value)\n",
        "\n",
        "print(\"\\nA: alpha = 1%: We do not reject the null hypothesis because the p-value is larger than alpha = %1,\"\n",
        "      \"\\nand conclude that number of students who go to the gym weekly is not different to 50%.\")\n",
        "\n",
        "print(\"\\nB: alpha = 5%: We reject the null hypothesis because the p-value is smaller than alpha = %5,\"\n",
        "      \"\\nand conclude that number of students who go to the gym weekly is different to 50%.\")\n",
        "\n",
        "print(\"\\nC: The significance level affects T1 error chance. 1% alpha is very conservatice and will rarely reject\",\n",
        "      \"\\nthe null hypothesis. a 5% alpha will reject the null hypothesis more easily. In this case, with\",\n",
        "      \"\\n a p-value of,\", p_value, \"a 5% alpha will reject the null hypothesis while a 1% will not.\")\n"
      ],
      "execution_count": 126,
      "outputs": [
        {
          "output_type": "stream",
          "text": [
            "Null hypothesis: p_hat = 0.5, Alt hypothesis: p_hat != 0.5\n",
            "Sampling is random in this case, so independence criteria is satisfied. Success-failure condition is also satisfied with 180 and 220 above 10.\n",
            "\n",
            "SE = sqrt( (p_hat*(1-p_hat)) / n ): 0.025\n",
            "Z-Score = (p_hat - p0) / SE: 2.0\n",
            "One-tail area for this z-score: 0.0228\n",
            "p-value is twice the one-tail area: 0.046\n",
            "\n",
            "A: alpha = 1%: We do not reject the null hypothesis because the p-value is larger than alpha = %1,\n",
            "and conclude that number of students who go to the gym weekly is not different to 50%.\n",
            "\n",
            "B: alpha = 5%: We reject the null hypothesis because the p-value is smaller than alpha = %5,\n",
            "and conclude that number of students who go to the gym weekly is different to 50%.\n",
            "\n",
            "C: The significance level affects T1 error chance. 1% alpha is very conservatice and will rarely reject \n",
            "the null hypothesis. a 5% alpha will reject the null hypothesis more easily. In this case, with \n",
            " a p-value of, 0.046 a 5% alpha will reject the null hypothesis while a 1% will not.\n"
          ],
          "name": "stdout"
        }
      ]
    },
    {
      "cell_type": "code",
      "metadata": {
        "id": "31m7CJqrec2G",
        "colab_type": "code",
        "colab": {}
      },
      "source": [
        ""
      ],
      "execution_count": 0,
      "outputs": []
    }
  ]
}